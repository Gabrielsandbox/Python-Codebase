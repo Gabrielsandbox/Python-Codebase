{
  "nbformat": 4,
  "nbformat_minor": 0,
  "metadata": {
    "colab": {
      "provenance": [],
      "authorship_tag": "ABX9TyMYfewLJWliBx4F0GwsiNbT",
      "include_colab_link": true
    },
    "kernelspec": {
      "name": "python3",
      "display_name": "Python 3"
    },
    "language_info": {
      "name": "python"
    }
  },
  "cells": [
    {
      "cell_type": "markdown",
      "metadata": {
        "id": "view-in-github",
        "colab_type": "text"
      },
      "source": [
        "<a href=\"https://colab.research.google.com/github/Gabrielsandbox/Python-Codebase/blob/main/PyFundamentos_FuncoesPadrao.ipynb\" target=\"_parent\"><img src=\"https://colab.research.google.com/assets/colab-badge.svg\" alt=\"Open In Colab\"/></a>"
      ]
    },
    {
      "cell_type": "code",
      "execution_count": null,
      "metadata": {
        "id": "PHB2ST3HWzgM"
      },
      "outputs": [],
      "source": [
        "#funções internas\n",
        "print(abs(-200)) #Retorna valor absoluto\n",
        "lst = [10,20,40,70,90,100]\n",
        "print('Maior valor: ', max(lst))\n",
        "print('Menor valor: ', min(lst))\n",
        "print('Soma valores ', sum(lst))\n",
        "print('Arredondamento: ', round(2.45677, 2)) # O algarismo 2 ao lado representa o número de casas decimais após o ponto."
      ]
    },
    {
      "cell_type": "code",
      "source": [
        "#Estatística\n",
        "from statistics import *\n",
        "mean(list) #Média\n",
        "median(list) #Mediana\n",
        "mode(list) #Modo"
      ],
      "metadata": {
        "id": "pZsiicaGY4NT"
      },
      "execution_count": null,
      "outputs": []
    },
    {
      "cell_type": "code",
      "source": [
        "#Desvio padrão da amostra\n",
        "stdev(list)\n",
        "\n",
        "#Variância da amostra\n",
        "variance(list)"
      ],
      "metadata": {
        "id": "J8ItNvUfZ6zf"
      },
      "execution_count": null,
      "outputs": []
    },
    {
      "cell_type": "code",
      "source": [
        "from numpy import *\n",
        "a = random.random((8,8))\n",
        "print(type(a))\n",
        "print(a)"
      ],
      "metadata": {
        "id": "v-ArzCCjaJC2"
      },
      "execution_count": null,
      "outputs": []
    }
  ]
}