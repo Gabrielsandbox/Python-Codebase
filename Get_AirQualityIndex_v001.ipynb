{
  "nbformat": 4,
  "nbformat_minor": 0,
  "metadata": {
    "colab": {
      "provenance": [],
      "authorship_tag": "ABX9TyNHOW+oGXN/+TnsHy2ITPYC",
      "include_colab_link": true
    },
    "kernelspec": {
      "name": "python3",
      "display_name": "Python 3"
    },
    "language_info": {
      "name": "python"
    }
  },
  "cells": [
    {
      "cell_type": "markdown",
      "metadata": {
        "id": "view-in-github",
        "colab_type": "text"
      },
      "source": [
        "<a href=\"https://colab.research.google.com/github/Gabrielsandbox/Python-Codebase/blob/main/Get_AirQualityIndex_v001.ipynb\" target=\"_parent\"><img src=\"https://colab.research.google.com/assets/colab-badge.svg\" alt=\"Open In Colab\"/></a>"
      ]
    },
    {
      "cell_type": "code",
      "execution_count": 22,
      "metadata": {
        "colab": {
          "base_uri": "https://localhost:8080/"
        },
        "id": "EY_ZF9u4wqzf",
        "outputId": "c43f5a86-25e8-44e5-df17-720a2d97bbe6"
      },
      "outputs": [
        {
          "output_type": "stream",
          "name": "stdout",
          "text": [
            "Target Location:\n",
            "São Paulo\n",
            "{'aqi': 46, 'idx': 359, 'attributions': [{'url': 'http://www.cetesb.sp.gov.br/', 'name': 'CETESB - Companhia Ambiental do Estado de São Paulo', 'logo': 'Brazil-CETESB.png'}, {'url': 'https://waqi.info/', 'name': 'World Air Quality Index Project'}], 'city': {'geo': [-23.544845659, -46.627675592], 'name': 'Parque D.Pedro II, São Paulo, Brazil', 'url': 'https://aqicn.org/city/brazil/sao-paulo/parque-d.pedro-ii', 'location': ''}, 'dominentpol': 'pm25', 'iaqi': {'co': {'v': 1.9}, 'h': {'v': 88}, 'no2': {'v': 13.3}, 'o3': {'v': 10.2}, 'p': {'v': 1024.5}, 'pm10': {'v': 20}, 'pm25': {'v': 46}, 't': {'v': 16.1}, 'w': {'v': 0.4}, 'wg': {'v': 1.2}}, 'time': {'s': '2023-11-26 01:00:00', 'tz': '-03:00', 'v': 1700960400, 'iso': '2023-11-26T01:00:00-03:00'}, 'forecast': {'daily': {'o3': [{'avg': 3, 'day': '2023-11-24', 'max': 6, 'min': 2}, {'avg': 6, 'day': '2023-11-25', 'max': 17, 'min': 2}, {'avg': 4, 'day': '2023-11-26', 'max': 11, 'min': 1}, {'avg': 4, 'day': '2023-11-27', 'max': 10, 'min': 1}, {'avg': 3, 'day': '2023-11-28', 'max': 7, 'min': 1}, {'avg': 4, 'day': '2023-11-29', 'max': 9, 'min': 1}, {'avg': 2, 'day': '2023-11-30', 'max': 18, 'min': 1}], 'pm10': [{'avg': 24, 'day': '2023-11-24', 'max': 28, 'min': 18}, {'avg': 20, 'day': '2023-11-25', 'max': 24, 'min': 15}, {'avg': 30, 'day': '2023-11-26', 'max': 38, 'min': 16}, {'avg': 53, 'day': '2023-11-27', 'max': 62, 'min': 28}, {'avg': 45, 'day': '2023-11-28', 'max': 57, 'min': 23}, {'avg': 20, 'day': '2023-11-29', 'max': 24, 'min': 11}, {'avg': 45, 'day': '2023-11-30', 'max': 95, 'min': 14}], 'pm25': [{'avg': 46, 'day': '2023-11-24', 'max': 56, 'min': 32}, {'avg': 39, 'day': '2023-11-25', 'max': 45, 'min': 27}, {'avg': 58, 'day': '2023-11-26', 'max': 69, 'min': 31}, {'avg': 103, 'day': '2023-11-27', 'max': 124, 'min': 62}, {'avg': 90, 'day': '2023-11-28', 'max': 118, 'min': 48}, {'avg': 41, 'day': '2023-11-29', 'max': 56, 'min': 21}, {'avg': 86, 'day': '2023-11-30', 'max': 170, 'min': 28}]}}, 'debug': {'sync': '2023-11-26T13:22:21+09:00'}}\n"
          ]
        }
      ],
      "source": [
        "import pandas as pd\n",
        "import numpy as np\n",
        "import requests\n",
        "import json\n",
        "\n",
        "\n",
        "def aqi_request_data(request_url):\n",
        "\n",
        "  aqi_response = requests.get(request_url)\n",
        "  aqi_response_json = aqi_response.json()\n",
        "\n",
        "  return aqi_response_json\n",
        "\n",
        "\n",
        "def define_location():\n",
        "\n",
        "  location = ''\n",
        "  print('Target Location:')\n",
        "  location = input()\n",
        "\n",
        "  return location\n",
        "\n",
        "\n",
        "def filter_data(aqi_data_json):\n",
        "  filtered_data = aqi_data_json['data']\n",
        "  return filtered_data\n",
        "\n",
        "#------------------ INIT\n",
        "\n",
        "target_location = define_location()\n",
        "\n",
        "aqi_data_json = aqi_request_data('https://api.waqi.info/feed/' + target_location + '/?token=e7603aa4c4e088dd9da8456e5aa36c9364093b2e')\n",
        "\n",
        "print(filter_data(aqi_data_json))\n",
        "\n"
      ]
    }
  ]
}