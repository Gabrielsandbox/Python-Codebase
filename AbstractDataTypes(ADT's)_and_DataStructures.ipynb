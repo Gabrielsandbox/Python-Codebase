{
  "nbformat": 4,
  "nbformat_minor": 0,
  "metadata": {
    "colab": {
      "provenance": [],
      "authorship_tag": "ABX9TyNogbDTfWgu4u20dCqRRhty",
      "include_colab_link": true
    },
    "kernelspec": {
      "name": "python3",
      "display_name": "Python 3"
    },
    "language_info": {
      "name": "python"
    }
  },
  "cells": [
    {
      "cell_type": "markdown",
      "metadata": {
        "id": "view-in-github",
        "colab_type": "text"
      },
      "source": [
        "<a href=\"https://colab.research.google.com/github/Gabrielsandbox/Python-Codebase/blob/main/AbstractDataTypes(ADT's)_and_DataStructures.ipynb\" target=\"_parent\"><img src=\"https://colab.research.google.com/assets/colab-badge.svg\" alt=\"Open In Colab\"/></a>"
      ]
    },
    {
      "cell_type": "code",
      "execution_count": null,
      "metadata": {
        "id": "ONXdNM5KafyC"
      },
      "outputs": [],
      "source": [
        "# This is all an ADT is, a specification of behavior!"
      ]
    },
    {
      "cell_type": "markdown",
      "source": [
        "# List"
      ],
      "metadata": {
        "id": "QU3BmvpMheUy"
      }
    },
    {
      "cell_type": "code",
      "source": [
        "class IList:\n",
        "    def __init__(self, m):\n",
        "        self.A = [None] * m\n",
        "        self.capacity = m\n",
        "        self.size = 0\n",
        "\n",
        "    def get(self, i):\n",
        "        return self.A[i]\n",
        "\n",
        "    def set(self, i, e):\n",
        "        f = self.A[i]\n",
        "        self.A[i] = e\n",
        "        return f\n",
        "\n",
        "    def add(self, i, e):\n",
        "        for j in range(self.size, i, -1):\n",
        "            self.A[j] = self.A[j-1]\n",
        "        self.A[i] = e\n",
        "        self.size += 1\n",
        "        # Handle the case if size equals capacity\n",
        "\n",
        "    def remove(self, i):\n",
        "        for j in range(i, self.size-1):\n",
        "            self.A[j] = self.A[j+1]\n",
        "        self.size -= 1"
      ],
      "metadata": {
        "id": "3wLciqNshccb"
      },
      "execution_count": null,
      "outputs": []
    },
    {
      "cell_type": "markdown",
      "source": [
        "# LinkedList Implementation"
      ],
      "metadata": {
        "id": "Plcb2STdhiTS"
      }
    },
    {
      "cell_type": "code",
      "source": [
        "class Node:\n",
        "   def __init__(self, dataval=None):\n",
        "      self.data = dataval\n",
        "      self.next = None\n",
        "\n",
        "class LinkedList:\n",
        "   def __init__(self):\n",
        "      self.head = None\n",
        "\n",
        "def insert(i,e,t):\n",
        "     if t is None and i is 0:  #end of list\n",
        "        t2 = Node(num)\n",
        "        return t2\n",
        "     if t is None and i != 0:  #end of list, still trying to go further\n",
        "        raise Exception(\"index too large\")\n",
        "     if i is 0: #found the spot\n",
        "        t2 = Node(num)\n",
        "        t2.next = t\n",
        "        return t2\n",
        "     else:              #recursive case\n",
        "        t.next = insert(num,t.next)\n",
        "        return t\n",
        "\n",
        "def add(i,e):\n",
        "    self.head = insert(i,e,self.head)"
      ],
      "metadata": {
        "id": "cEZ1J1YUhmai"
      },
      "execution_count": null,
      "outputs": []
    },
    {
      "cell_type": "markdown",
      "source": [
        "# Stack"
      ],
      "metadata": {
        "id": "RlwZJTaOhqED"
      }
    },
    {
      "cell_type": "code",
      "source": [
        "# Example_1:\n",
        "# Reversing stuff, handy for finding palyndromes\n",
        "\n",
        "def is_palindrome(c):\n",
        "    l = len(c)\n",
        "    s = []\n",
        "    for i in range(l // 2):\n",
        "        s.push(c[i])\n",
        "\n",
        "    k = -(-l // 2)  # Ceiling division\n",
        "    for j in range(k,l):\n",
        "        if s.pop() != c[j]:\n",
        "            return False\n",
        "    return True"
      ],
      "metadata": {
        "id": "I41iIdFRhs5T"
      },
      "execution_count": null,
      "outputs": []
    },
    {
      "cell_type": "code",
      "source": [
        "# - Other usecases of Stacks\n",
        "# - Going back the way we came. Hansel and Gretel's breadcrumbs are like a stack. When finding the way back home, you look at them in the reverse order.\n",
        "# - Maze solving. At each junction, push it on the stack. When you hit a dead end, pop back to last junction, go in new direction. If there is no new direction, pop again.\n",
        "# - Call stacks. Each time a function call is made, push it on the call stack. When you return, pop off the stack. The function you return to is now on the top of the stack.\n",
        "# - Matching things like parentheses. Really just a special case of the palindrome example. Each time you see an open paren, push something on the stack. Each time you see a close, pop the stack. If you pop an empty stack, there are too many close parens. If you get to the end of the input, there are too many open parens.\n",
        "# - Computation of stack-like languages. This is a big topic, but we can look at a 'simple' one, reverse polish notation, or RPN."
      ],
      "metadata": {
        "id": "H0ug8FP4i4c7"
      },
      "execution_count": null,
      "outputs": []
    },
    {
      "cell_type": "markdown",
      "source": [
        "# **RPN** ( Still on Stacks )"
      ],
      "metadata": {
        "id": "akAIc1FljYwz"
      }
    },
    {
      "cell_type": "code",
      "source": [
        "# Reverse Polish Notation\n",
        "# RPN is a way or representing arithmetic expressions.\n",
        "# Instead of placing the operator between two sub-expressions: 3+2 or (3 + 2) * (4 - 1),\n",
        "# the operator is place after the sub-sexpressions: 3 2 + or 3 2 + 4 1 - *.\n",
        "\n",
        "# The algorithm for evaluating an RPN expression is, of course, stack based. It is also recursive.\n",
        "# The basic idea is that when there is an operator on the top of the stack,\n",
        "# the next two things on the stack are either numbers, or other expressions.\n",
        "# This suggests the following evaluation function:"
      ],
      "metadata": {
        "id": "T2upWaH6je4a"
      },
      "execution_count": null,
      "outputs": []
    },
    {
      "cell_type": "code",
      "source": [
        "def RPNEval(s) #s is a stack\n",
        "   n = s.pop()\n",
        "   if (isinstance(n,(int,float))):\n",
        "      return n\n",
        "   else //n is operator\n",
        "      right = RPNEval(s)\n",
        "      left = RPNEval(s)\n",
        "      return n(left,right)"
      ],
      "metadata": {
        "id": "AbcPcCM0kYWQ"
      },
      "execution_count": null,
      "outputs": []
    },
    {
      "cell_type": "code",
      "source": [
        "# There is also a very famous algorithm due to Edsger Dijkstra that converts infix notation to RPN."
      ],
      "metadata": {
        "id": "wuxGITePkomp"
      },
      "execution_count": null,
      "outputs": []
    },
    {
      "cell_type": "code",
      "source": [
        "# The algorithm is called the Shunting-yard algorithm because it resembles a railroad shunting yard.\n",
        "\n",
        "//for simplicity, we will assume all operators are left associative.\n",
        "Stack shuntingYard(inputExpression)\n",
        "   while (there still are items in inputExpression)\n",
        "      n ← remove next item from inputExpression\n",
        "      if (n is number)\n",
        "         output.push(n)\n",
        "      else if (n is operator)\n",
        "         while (precidence of n is ≤ shunt.top())\n",
        "            output.push(shunt.pop())\n",
        "         shunt.push(n)\n",
        "      else if (n is left paren)\n",
        "         shunt.push(n)\n",
        "      else //n is right paren\n",
        "      o ← shunt.pop()\n",
        "      while (o ≠ left paren)\n",
        "         output.push(o)\n",
        "         o ← stack.pop()\n",
        "   while (!shunt.isEmpty)\n",
        "      output.push(shunt.pop())\n",
        "   return output"
      ],
      "metadata": {
        "id": "Q4_SH1djk_zp"
      },
      "execution_count": null,
      "outputs": []
    },
    {
      "cell_type": "markdown",
      "source": [
        "# Queues"
      ],
      "metadata": {
        "id": "RAuH6ySdqlPD"
      }
    },
    {
      "cell_type": "code",
      "source": [
        "# The two primary operations on a Queue are\n",
        "# enqueue(e) - add element e to queue.\n",
        "# dequeue() - remove and return the oldest item.\n",
        "# and sometimes\n",
        "# head() - return the oldest item without removing it.\n",
        "#The basic idea is first in, first out; each iten gets its turn in the order it arrived."
      ],
      "metadata": {
        "id": "k4yNMVvPqneN"
      },
      "execution_count": null,
      "outputs": []
    }
  ]
}