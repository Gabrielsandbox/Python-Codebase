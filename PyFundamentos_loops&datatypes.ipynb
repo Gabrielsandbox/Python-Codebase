{
  "nbformat": 4,
  "nbformat_minor": 0,
  "metadata": {
    "colab": {
      "provenance": [],
      "authorship_tag": "ABX9TyNpwuYsqjyB6J6NfoNiWpf9",
      "include_colab_link": true
    },
    "kernelspec": {
      "name": "python3",
      "display_name": "Python 3"
    },
    "language_info": {
      "name": "python"
    }
  },
  "cells": [
    {
      "cell_type": "markdown",
      "metadata": {
        "id": "view-in-github",
        "colab_type": "text"
      },
      "source": [
        "<a href=\"https://colab.research.google.com/github/Gabrielsandbox/Python-Codebase/blob/main/PyFundamentos_loops%26datatypes.ipynb\" target=\"_parent\"><img src=\"https://colab.research.google.com/assets/colab-badge.svg\" alt=\"Open In Colab\"/></a>"
      ]
    },
    {
      "cell_type": "code",
      "source": [
        "for n in range(1,10):\n",
        "  print(n)"
      ],
      "metadata": {
        "id": "BBtg2TCJ2D7c"
      },
      "execution_count": null,
      "outputs": []
    },
    {
      "cell_type": "code",
      "source": [
        "for n in range(0,20,2):\n",
        "  if n==6:\n",
        "      print(n+40)\n",
        "      continue\n",
        "  print(n)"
      ],
      "metadata": {
        "id": "phjm5RGJw1iT"
      },
      "execution_count": null,
      "outputs": []
    },
    {
      "cell_type": "code",
      "source": [
        "lista = [1, 2, 3, 4, 5]\n",
        "print(lista)"
      ],
      "metadata": {
        "id": "0oX3X5eWxacM"
      },
      "execution_count": null,
      "outputs": []
    },
    {
      "cell_type": "code",
      "source": [
        "lista = [1, 2, True, 4, False, \"6\", [1,2,3,4,5,6,7], 8, 9]\n",
        "print(lista)"
      ],
      "metadata": {
        "id": "Uvd3SYT9x9UU"
      },
      "execution_count": null,
      "outputs": []
    },
    {
      "cell_type": "code",
      "source": [
        "lista_2 = list(range(0,11))\n",
        "print(lista_2)"
      ],
      "metadata": {
        "id": "7aTTpf64yRgc"
      },
      "execution_count": null,
      "outputs": []
    },
    {
      "cell_type": "code",
      "source": [
        "print(len(lista_2))"
      ],
      "metadata": {
        "id": "GsuVueXtyq3z"
      },
      "execution_count": null,
      "outputs": []
    },
    {
      "cell_type": "code",
      "source": [
        "for n in range(0, len(lista_2)):\n",
        "  print(lista_2[n] + 1)"
      ],
      "metadata": {
        "id": "0Yl823Q7y4HT"
      },
      "execution_count": null,
      "outputs": []
    },
    {
      "cell_type": "code",
      "source": [
        "dictionary = { \"key\" : True, \"John\" : \"August\", \"Ripper\" : 13.0 }\n",
        "print(dictionary)"
      ],
      "metadata": {
        "id": "FNlvvr_Dzk1G"
      },
      "execution_count": null,
      "outputs": []
    },
    {
      "cell_type": "code",
      "source": [
        "print(dictionary['key'])"
      ],
      "metadata": {
        "id": "gHx0YbQK1VEU"
      },
      "execution_count": null,
      "outputs": []
    },
    {
      "cell_type": "code",
      "source": [
        "dictionary.keys()"
      ],
      "metadata": {
        "id": "nR1R0_2r1ejW"
      },
      "execution_count": null,
      "outputs": []
    },
    {
      "cell_type": "code",
      "source": [
        "dictionary.values()"
      ],
      "metadata": {
        "id": "yhud8f5Q1oiN"
      },
      "execution_count": null,
      "outputs": []
    },
    {
      "cell_type": "code",
      "source": [
        "if \"John\" in dictionary:\n",
        "  print(True)\n",
        "else:\n",
        "  print(False)"
      ],
      "metadata": {
        "id": "cJ0ov0b52EQE"
      },
      "execution_count": null,
      "outputs": []
    },
    {
      "cell_type": "code",
      "source": [
        "del dictionary['John']\n",
        "print(dictionary)"
      ],
      "metadata": {
        "id": "Xu9_p9IZ2Wxf"
      },
      "execution_count": null,
      "outputs": []
    },
    {
      "cell_type": "code",
      "source": [
        "dictionary['Anna'] = 333\n",
        "print(dictionary)"
      ],
      "metadata": {
        "id": "-JAFDt2B2jVn"
      },
      "execution_count": null,
      "outputs": []
    },
    {
      "cell_type": "code",
      "source": [
        "dictionary.get(\"Anna\", \"Não encontrado!\")"
      ],
      "metadata": {
        "id": "l-Mygh3y21jM"
      },
      "execution_count": null,
      "outputs": []
    },
    {
      "cell_type": "code",
      "source": [
        "aset = { \"one\", \"six\" , \"four\" }\n",
        "print(aset)\n",
        "\n",
        "aset.add(\"three\")\n",
        "print(aset)\n",
        "\n",
        "aset.add(\"another\")\n",
        "print(aset)"
      ],
      "metadata": {
        "id": "wplzjbmsHd4h"
      },
      "execution_count": null,
      "outputs": []
    },
    {
      "cell_type": "code",
      "source": [
        "lista_3 = [1,2,3,4,5] #mutável\n",
        "tupla = (1,2,3,4,5) #Imutável"
      ],
      "metadata": {
        "id": "W0pV8AuvIJ7H"
      },
      "execution_count": null,
      "outputs": []
    },
    {
      "cell_type": "code",
      "source": [
        "dictionary_1 = { (1,2): 1 , (2,3) : 2 , (3,4) : 3 }\n",
        "print(dictionary_1[(3,4)])"
      ],
      "metadata": {
        "id": "cpoTVa0tJCYP"
      },
      "execution_count": null,
      "outputs": []
    }
  ]
}