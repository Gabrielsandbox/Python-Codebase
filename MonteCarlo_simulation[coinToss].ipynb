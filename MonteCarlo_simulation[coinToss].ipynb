{
  "nbformat": 4,
  "nbformat_minor": 0,
  "metadata": {
    "colab": {
      "provenance": [],
      "authorship_tag": "ABX9TyMjUbm3D+acELUqPcTfwr8i",
      "include_colab_link": true
    },
    "kernelspec": {
      "name": "python3",
      "display_name": "Python 3"
    },
    "language_info": {
      "name": "python"
    }
  },
  "cells": [
    {
      "cell_type": "markdown",
      "metadata": {
        "id": "view-in-github",
        "colab_type": "text"
      },
      "source": [
        "<a href=\"https://colab.research.google.com/github/Gabrielsandbox/Python-Codebase/blob/main/MonteCarlo_simulation%5BcoinToss%5D.ipynb\" target=\"_parent\"><img src=\"https://colab.research.google.com/assets/colab-badge.svg\" alt=\"Open In Colab\"/></a>"
      ]
    },
    {
      "cell_type": "markdown",
      "source": [
        "Naively speaking, in a Monte-Carlo Simulation, you take different experiment results from values starting with different input values and average(expectation) of the results."
      ],
      "metadata": {
        "id": "l_z1BhFjvcdc"
      }
    },
    {
      "cell_type": "code",
      "execution_count": 2,
      "metadata": {
        "id": "vE4WPjV2vCMD"
      },
      "outputs": [],
      "source": [
        "import random\n",
        "\n",
        "def unbiased_coin_toss():\n",
        "    # Generate a random number from 0 to 1\n",
        "    x = random.uniform(0, 1)\n",
        "    # Probability that the number falls between 0 and 0.5 is 1/2\n",
        "\n",
        "    if x > 0.5:\n",
        "        # Heads for True\n",
        "        return True\n",
        "    else:\n",
        "        # Tails for False\n",
        "        return False"
      ]
    },
    {
      "cell_type": "code",
      "source": [
        "prob = []\n",
        "\n",
        "# Make 1000 experiments\n",
        "for i in range(1000):\n",
        "\n",
        "    # Each experiment have 10 coin tosses\n",
        "    N = 10\n",
        "    results = []\n",
        "\n",
        "    # Toss the coin 10 times and store that in a list\n",
        "    for i in range(N):\n",
        "        result = unbiased_coin_toss()\n",
        "        results.append(result)\n",
        "\n",
        "    n_heads = sum(results)\n",
        "    p_heads = n_heads/N\n",
        "    prob.append(p_heads)\n",
        "\n",
        "# average the probability of heads over 1000 experiments\n",
        "p_heads_MC = sum(prob)/1000\n",
        "\n",
        "print(\"Probability is {:.3f}\".format(p_heads_MC))"
      ],
      "metadata": {
        "colab": {
          "base_uri": "https://localhost:8080/"
        },
        "id": "S5JGMCMxvMwz",
        "outputId": "3bf2b81f-05a7-45af-9f53-da253af0ad35"
      },
      "execution_count": 8,
      "outputs": [
        {
          "output_type": "stream",
          "name": "stdout",
          "text": [
            "Probability is 0.512\n"
          ]
        }
      ]
    }
  ]
}