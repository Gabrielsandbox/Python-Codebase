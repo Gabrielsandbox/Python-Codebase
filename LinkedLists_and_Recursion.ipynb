{
  "nbformat": 4,
  "nbformat_minor": 0,
  "metadata": {
    "colab": {
      "provenance": [],
      "authorship_tag": "ABX9TyM8KXYc6zsr4gBnh1fCGCAd",
      "include_colab_link": true
    },
    "kernelspec": {
      "name": "python3",
      "display_name": "Python 3"
    },
    "language_info": {
      "name": "python"
    }
  },
  "cells": [
    {
      "cell_type": "markdown",
      "metadata": {
        "id": "view-in-github",
        "colab_type": "text"
      },
      "source": [
        "<a href=\"https://colab.research.google.com/github/Gabrielsandbox/Python-Codebase/blob/main/LinkedLists_and_Recursion.ipynb\" target=\"_parent\"><img src=\"https://colab.research.google.com/assets/colab-badge.svg\" alt=\"Open In Colab\"/></a>"
      ]
    },
    {
      "cell_type": "markdown",
      "source": [
        "\n",
        "![ll2.png](data:image/png;base64,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)\n"
      ],
      "metadata": {
        "id": "grSphYh9XpJ2"
      }
    },
    {
      "cell_type": "code",
      "execution_count": 1,
      "metadata": {
        "id": "euMFueRQXTBX"
      },
      "outputs": [],
      "source": [
        "class Node:\n",
        "   def __init__(self, dataval=None):\n",
        "      self.data = dataval\n",
        "      self.next = None\n",
        "\n",
        "class LinkedList:\n",
        "   def __init__(self):\n",
        "      self.head = None"
      ]
    },
    {
      "cell_type": "markdown",
      "source": [
        "# **Recursion**"
      ],
      "metadata": {
        "id": "TZLjiRNzX-TN"
      }
    },
    {
      "cell_type": "code",
      "source": [
        "# Binary Search || time: O(n**2)\n",
        "\n",
        "def binarySearch(L, toFind, start=0, end=None): # start and end tell us what portion of the array we are working with.\n",
        "    if end is None:\n",
        "        end = len(L) - 1\n",
        "    if start > end:\n",
        "        return -1\n",
        "    mid = (end - start)//2\n",
        "    if L[mid]==toFind:\n",
        "        return mid\n",
        "    if L[mid] < toFind:\n",
        "        return binarySearch(L, toFind, mid+1,end)\n",
        "    else:\n",
        "        return binarySearch(L, toFind, start, mid-1)"
      ],
      "metadata": {
        "id": "2UzKHfnjYC1E"
      },
      "execution_count": null,
      "outputs": []
    },
    {
      "cell_type": "code",
      "source": [
        "# Recursion on Linked Lists || time: O(n**2)\n",
        "\n",
        "def insert(num,t):\n",
        "     if t is None:  #end of list\n",
        "        t2 = Node(num)\n",
        "        return t2\n",
        "     if t.data > num: #found the spot\n",
        "        t2 = Node(num)\n",
        "        t2.next = t\n",
        "        return t2\n",
        "     else:              #recursive case\n",
        "        t.next = insert(num,t.next)\n",
        "        return t"
      ],
      "metadata": {
        "id": "61_USMdtYOes"
      },
      "execution_count": 2,
      "outputs": []
    },
    {
      "cell_type": "code",
      "source": [
        "# Merge Sort\n",
        "\n",
        "# The basic idea to to take the array, divide it in half, sort each half,\n",
        "# and then merge the two halves together.\n",
        "# It turns out that merging two already sorted list can be done in linear time:\n",
        "\n",
        "def merge(left, right):\n",
        "    merged = []\n",
        "    left_index = 0\n",
        "    right_index = 0\n",
        "\n",
        "    # Merge the two halves in sorted order\n",
        "    while left_index < len(left) and right_index < len(right):\n",
        "        if left[left_index] <= right[right_index]:\n",
        "            merged.append(left[left_index])\n",
        "            left_index += 1\n",
        "        else:\n",
        "            merged.append(right[right_index])\n",
        "            right_index += 1\n",
        "\n",
        "    # Append any remaining elements\n",
        "    merged.extend(left[left_index:])\n",
        "    merged.extend(right[right_index:])\n",
        "\n",
        "    return merged\n",
        "\n",
        "def merge_sort(arr):\n",
        "    if len(arr) <= 1:\n",
        "        return arr\n",
        "    # Divide the array into two halves\n",
        "    mid = len(arr) // 2\n",
        "    left_half = arr[:mid]\n",
        "    right_half = arr[mid:]\n",
        "    # Recursively sort the two halves\n",
        "    left_half = merge_sort(left_half)\n",
        "    right_half = merge_sort(right_half)\n",
        "    # Merge the sorted halves\n",
        "    return merge(left_half, right_half)\n",
        "\n",
        "arr = [4,6,9,4,2,3,4,3]\n",
        "print(merge_sort(arr))"
      ],
      "metadata": {
        "colab": {
          "base_uri": "https://localhost:8080/"
        },
        "id": "QoIrfb1ZZA8U",
        "outputId": "80e12fc6-b803-4a09-d87f-3ed23f204193"
      },
      "execution_count": 3,
      "outputs": [
        {
          "output_type": "stream",
          "name": "stdout",
          "text": [
            "[2, 3, 3, 4, 4, 4, 6, 9]\n"
          ]
        }
      ]
    }
  ]
}