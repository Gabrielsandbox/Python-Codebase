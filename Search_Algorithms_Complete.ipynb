{
  "nbformat": 4,
  "nbformat_minor": 0,
  "metadata": {
    "colab": {
      "provenance": [],
      "authorship_tag": "ABX9TyOxbr48GsUv3mCtZVriGXmO",
      "include_colab_link": true
    },
    "kernelspec": {
      "name": "python3",
      "display_name": "Python 3"
    },
    "language_info": {
      "name": "python"
    }
  },
  "cells": [
    {
      "cell_type": "markdown",
      "metadata": {
        "id": "view-in-github",
        "colab_type": "text"
      },
      "source": [
        "<a href=\"https://colab.research.google.com/github/Gabrielsandbox/Python-Codebase/blob/main/Search_Algorithms_Complete.ipynb\" target=\"_parent\"><img src=\"https://colab.research.google.com/assets/colab-badge.svg\" alt=\"Open In Colab\"/></a>"
      ]
    },
    {
      "cell_type": "markdown",
      "source": [
        "# **What is Search Algorithm?**"
      ],
      "metadata": {
        "id": "j9mCfB97m8UO"
      }
    },
    {
      "cell_type": "code",
      "execution_count": null,
      "metadata": {
        "id": "d3AXFpOzdbVW"
      },
      "outputs": [],
      "source": [
        "# A search algorithm is a type of algorithm used in artificial intelligence to find the best or most optimal solution to a problem\n",
        "# by exploring a set of possible solutions, also called a search space."
      ]
    },
    {
      "cell_type": "code",
      "source": [
        "# Search algorithms typically operate by organizing the search space into a particular type of graph,\n",
        "# commonly a tree, and evaluate the best score, or cost, of traversing each branch of the tree.\n",
        "# A solution is a path from the start state to the goal state that optimizes the cost given the parameters of the implemented algorithm."
      ],
      "metadata": {
        "id": "W7jxHm_Znv0k"
      },
      "execution_count": null,
      "outputs": []
    },
    {
      "cell_type": "code",
      "source": [
        "# Search algorithms are typically organized into two categories:"
      ],
      "metadata": {
        "id": "DiyW1Ni0oB5c"
      },
      "execution_count": null,
      "outputs": []
    },
    {
      "cell_type": "markdown",
      "source": [
        "# **Search Space**"
      ],
      "metadata": {
        "id": "yxrNBOMuymvR"
      }
    },
    {
      "cell_type": "code",
      "source": [
        "# The space of all feasible solutions (the set of solutions among which the desired solution resides) is called search space"
      ],
      "metadata": {
        "id": "QREKJC6GypxS"
      },
      "execution_count": null,
      "outputs": []
    },
    {
      "cell_type": "markdown",
      "source": [
        "# **Uninformed Search**"
      ],
      "metadata": {
        "id": "QIwy85fCoDdE"
      }
    },
    {
      "cell_type": "code",
      "source": [
        "# Algorithms that are general purpose traversals of the state space or search tree without any information about how good a state is.\n",
        "# These are also referred to as blind search algorithms.\n",
        "\n",
        "# Uninformed search algorithms are generally simple and easy to implement but could be more efficient in large search spaces or for problems with complex or irrelevant paths.\n",
        "# Uninformed search algorithms are useful for solving simple problems or as a baseline for more complex search algorithms incorporating domain-specific knowledge"
      ],
      "metadata": {
        "id": "lEAAixMKoHNk"
      },
      "execution_count": null,
      "outputs": []
    },
    {
      "cell_type": "markdown",
      "source": [
        "# **Informed Search**"
      ],
      "metadata": {
        "id": "B18sRZAcoHcz"
      }
    },
    {
      "cell_type": "code",
      "source": [
        "# Algorithms that have information about the goal during the traversal,\n",
        "# allowing the search to prioritize its expansion toward the goal state\n",
        "# instead of exploring directions that may yield a favorable cost but don’t lead to the goal, or global optimum.\n",
        "# By including extra rules that aid in estimating the location of the goal (known as heuristics)\n",
        "# informed search algorithms can be more computationally efficient when searching for a path to the goal state.\n",
        "\n",
        "# A*"
      ],
      "metadata": {
        "id": "s6VHq9acoLtt"
      },
      "execution_count": null,
      "outputs": []
    },
    {
      "cell_type": "markdown",
      "source": [
        "**Types of search algorithms:**"
      ],
      "metadata": {
        "id": "IKQXL7Wfomf1"
      }
    },
    {
      "cell_type": "markdown",
      "source": [
        "# **Depth-First Search (DFS)**"
      ],
      "metadata": {
        "id": "ptW3XjvMo1Dk"
      }
    },
    {
      "cell_type": "code",
      "source": [
        "# The depth-first algorithm chooses one path and continues it until it reaches the end.\n",
        "# DFS is diving deep into the graph and backtracking when it hits bottom.\n",
        "\n",
        "def dfs(node, graph, visited, component):\n",
        "    component.append(node)  # Store answer\n",
        "    visited[node] = True  # Mark visited\n",
        "\n",
        "    # Traverse to each adjacent node of a node\n",
        "    for child in graph[node]:\n",
        "        if not visited[child]:  # Check whether the node is visited or not\n",
        "            dfs(child, graph, visited, component)  # Call the dfs recursively\n",
        "\n",
        "\n",
        "if __name__ == \"__main__\":\n",
        "\n",
        "    # Graph of nodes\n",
        "    graph = {\n",
        "        0: [2],\n",
        "        1: [2, 3],\n",
        "        2: [0, 1, 4],\n",
        "        3: [1, 4],\n",
        "        4: [2, 3]\n",
        "    }\n",
        "    node = 0  # Starting node\n",
        "    visited = [False]*len(graph)  # Make all nodes to False initially\n",
        "    component = []\n",
        "    dfs(node, graph, visited, component)  # Traverse to each node of a graph\n",
        "    print(f\"Following is the Depth-first search: {component}\")  # Print the answer\n",
        "\n",
        "# Explanation:\n",
        "\n",
        "# We created a graph with five nodes in the above code.\n",
        "# Our source node is 0.\n",
        "# We have a visited array that stores all the nodes that have been visited and a component array that stores the answer.\n",
        "# Then we call the dfs function, passing it to the source node, visited array, component array, and graph.\n",
        "# When we call the dfs function with any node, we first visit that node and add it to the answer array.\n",
        "# Then we visit all of the adjacent node nodes of the given node.\n",
        "\n",
        "# Time Complexity:\n",
        "# On a directed graph, the average time complexity of DFS is O(V+|E|),\n",
        "# where V is the number of vertices and E is the number of edges; on an undirected graph,\n",
        "# the time complexity is O(V+2|E|)(each edge is visited twice).\n",
        "\n",
        "# The average time complexity of DFS on a tree is O(V), where V is the number of nodes.\n",
        "\n",
        "# Space Complexity:\n",
        "# The space complexity of the DFS algorithm is O(V), where V is the number of vertices.\n",
        "\n",
        "# Applications of DFS\n",
        "# - Topological sorting, scheduling problems, cycle detection in graphs, and solving puzzles with just one solution, such as a maze or a sudoku puzzle, all use depth-first search.\n",
        "# - Other uses involve network analysis, such as detecting if a graph is bipartite.\n",
        "# - DFS is also used as a subroutine in graph theory matching algorithms such as the Hopcroft-Karp algorithm.\n",
        "# - Depth-first searches are used in route mapping, scheduling, and finding spanning trees.\n",
        "\n"
      ],
      "metadata": {
        "colab": {
          "base_uri": "https://localhost:8080/"
        },
        "id": "yczsxft6o6Rc",
        "outputId": "ef1ef8e2-9042-4459-bb18-5728af590e37"
      },
      "execution_count": null,
      "outputs": [
        {
          "output_type": "stream",
          "name": "stdout",
          "text": [
            "Following is the Depth-first search: [0, 2, 1, 3, 4]\n"
          ]
        }
      ]
    },
    {
      "cell_type": "markdown",
      "source": [
        "# **Breadth-First Search (BFS) - Level Order Traversal**"
      ],
      "metadata": {
        "id": "h3bxzohxs47s"
      }
    },
    {
      "cell_type": "code",
      "source": [
        "from collections import defaultdict\n",
        "\n",
        "# This class represents an undirected graph using adjacency list representation\n",
        "class Graph:\n",
        "\n",
        "# Constructor\n",
        "    def __init__(self):\n",
        "\n",
        "        # Default dictionary to store graph\n",
        "        self.graph = defaultdict(list)\n",
        "\n",
        "    # Function to add an edge to graph\n",
        "    def addEdge(self, v, w):\n",
        "        self.graph[v].append(w)\n",
        "        self.graph[w].append(v)\n",
        "\n",
        "    # Function to print a bfsTraversal of graph\n",
        "    def bfsTraversal(self, vertex):\n",
        "\n",
        "        # Mark all the vertices as not visited\n",
        "        visited = [False] * (max(self.graph) + 1)\n",
        "\n",
        "        # Create a queue for bfsTraversal\n",
        "        queue = []\n",
        "\n",
        "        # Mark the source node as\n",
        "        # visited and enqueue it\n",
        "        queue.append(vertex)\n",
        "        visited[vertex] = True\n",
        "\n",
        "        while queue:\n",
        "\n",
        "            # Dequeue a vertex from\n",
        "            # queue and print it\n",
        "            vertex = queue.pop(0)\n",
        "            print (vertex, end = \" \")\n",
        "\n",
        "            # Get all adjacent vertices of the dequeued vertex vertex.\n",
        "            # If a adjacent has not been visited, then mark it visited and enqueue it\n",
        "            for i in self.graph[vertex]:\n",
        "                if visited[i] == False:\n",
        "                    queue.append(i)\n",
        "                    visited[i] = True\n",
        "\n",
        "# Create a graph given\n",
        "graph = Graph()\n",
        "graph.addEdge(0, 1)\n",
        "graph.addEdge(0, 2)\n",
        "graph.addEdge(1, 3)\n",
        "graph.addEdge(1, 4)\n",
        "graph.addEdge(2, 1)\n",
        "graph.addEdge(2, 5)\n",
        "graph.addEdge(3, 6)\n",
        "\n",
        "print (\"Breadth First Traversal from 1 is : \")\n",
        "graph.bfsTraversal(1)\n",
        "\n",
        "\n",
        "# Time Complexity:\n",
        "# From each V, we iterate all of the other neighbour vertices i.e. at the other end of all of its edges,\n",
        "# and the total edges that we can have in the graph is E. Then it means Breadth-First Search works in O(E + V) time.\n",
        "\n",
        "# Space Complexity:\n",
        "# We use two data structures in Breadth-First Search - the visited array/Set, and the Queue.\n",
        "# A Visited array will have the size of the number of vertices in the graph\n",
        "# (Similarly, the maximum size of a Set can also be up to the number of vertices in the graph).\n",
        "# Since both the Visited array and Queue can have a max size of V(equal to as many vertices), the overall space complexity will be O(V).\n",
        "\n",
        "# Applications of BFS\n",
        "# - Minimum spanning tree for unweighted graphs- In Breadth-First Search we can reach from any given source vertex to another vertex, with the minimum number of edges, and this principle can be used to find the minimum spanning tree which is the path covering all vertices in the shortest paths.\n",
        "# - Peer to peer networking: In Peer to peer networking, to find the neighbouring peer from any other peer, the Breadth-First Search is used.\n",
        "# - Crawlers in search engines: Search engines need to crawl the internet. To do so, they can start from any source page, follow the links contained in that page in the Breadth-First Search manner, and therefore explore other pages.\n",
        "# - GPS navigation systems: To find locations within a given radius from any source person, we can find all neighbouring locations using the Breadth-First Search, and keep on exploring until those are within the K radius.\n",
        "# - Broadcasting in networks: While broadcasting from any source, we find all its neighbouring peers and continue broadcasting to them, and so on.\n",
        "# - Path Finding: To find if there is a path between 2 vertices, we can take any vertex as a source, and keep on traversing until we reach the destination vertex. If we explore all vertices reachable from the source and could not find the destination vertex, then that means there is no path between these 2 vertices.\n",
        "# - Finding all reachable Nodes from a given Vertex: All vertices which are reachable from a given vertex can be found using the BFS approach in any disconnected graph. The vertices which are marked as visited in the visited array after the BFS is complete contains all those reachable vertices.\n",
        "\n"
      ],
      "metadata": {
        "colab": {
          "base_uri": "https://localhost:8080/"
        },
        "id": "7QLQAuvls8O1",
        "outputId": "adcec8f4-e3c3-4e9a-c56a-a99ae53d4cd4"
      },
      "execution_count": null,
      "outputs": [
        {
          "output_type": "stream",
          "name": "stdout",
          "text": [
            "Breadth First Traversal from 1 is : \n",
            "1 0 3 4 2 6 5 "
          ]
        }
      ]
    },
    {
      "cell_type": "markdown",
      "source": [],
      "metadata": {
        "id": "xCeM0GvFxETd"
      }
    }
  ]
}